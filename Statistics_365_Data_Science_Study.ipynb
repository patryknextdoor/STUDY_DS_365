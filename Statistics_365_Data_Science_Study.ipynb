{
 "cells": [
  {
   "cell_type": "markdown",
   "id": "b1d6951a-d3de-43b8-be62-5e2c48cd5b05",
   "metadata": {},
   "source": [
    "### *What is Data ?*\n",
    "\n",
    "- Source of truth and intelligence\n",
    "- Fuel for AI \n",
    "- The more Data You have the more Truth you have\n",
    "\n",
    "However it is important to note:\n",
    "\n",
    "Data is not important in itself , it is the analysis of the data and how the data is produced!\n",
    "\n",
    "- Ground truth :\n",
    "information that is known to be real or true, provided by direct observation and measurement (i.e. empirical evidence) as opposed to information provided by inference."
   ]
  },
  {
   "cell_type": "markdown",
   "id": "9123a1b7-98a3-4762-bb88-1ad02858b785",
   "metadata": {},
   "source": [
    "- Descriptive Statistics : Summarizing Data\n",
    "\n",
    "- Inferential Statistics : uncovering attribuites about larger populations based on a sample\n",
    "\n",
    "- Population : particular group we want to study\n",
    "\n",
    "- Sample : subset of population"
   ]
  },
  {
   "cell_type": "markdown",
   "id": "659b16f3-e3fe-4f52-8bdb-ab1fb3cf6236",
   "metadata": {},
   "source": [
    "### *Bias Types*"
   ]
  },
  {
   "cell_type": "markdown",
   "id": "622b93b3-e712-4e21-83af-70d1e86dc5e2",
   "metadata": {},
   "source": [
    "- Confirmation bias : tendency to cherry-pick information that confirms our existing beliefs or ideas.\n",
    "\n",
    "- Self-selection bias :  refers to the bias that can occur when individuals are allowed to choose whether they want to participate in a research study. Because participants often differ from nonparticipants in ways significant to the research, self-selection can lead to a biased sample and affects the generalizability of your results.\n",
    "\n",
    "- Survivorship bias : occurs when researchers focus on individuals, groups, or cases that have passed some sort of selection process while ignoring those who did not. Survivorship bias can lead researchers to form incorrect conclusions due to only studying a subset of the population. Survivorship bias is a type of selection bias."
   ]
  },
  {
   "cell_type": "markdown",
   "id": "cd6dff64-b6a2-4fc9-b324-e803480808f2",
   "metadata": {},
   "source": [
    "### *Remember!*\n",
    "\n",
    "Math and Computers do not detect bias in your data! This is on you to detect!\n",
    "\n",
    "Always ask questions :\n",
    " - how the data was obtained\n",
    " - how this process could biased the data"
   ]
  },
  {
   "cell_type": "markdown",
   "id": "dde5e37a-9ab8-4413-baf8-741ecbc861fb",
   "metadata": {
    "tags": [],
    "toc-hr-collapsed": true
   },
   "source": [
    "### *Descriptive Statistics*\n",
    "\n",
    "- Mean \n",
    "- Weighted Mean\n",
    "- Mode\n",
    "- Median\n",
    "\n",
    "### *Measurements of Central Tendency*"
   ]
  },
  {
   "cell_type": "code",
   "execution_count": 22,
   "id": "165add7e-df80-4191-97a6-2124cfc5200e",
   "metadata": {},
   "outputs": [
    {
     "data": {
      "text/plain": [
       "3.4444444444444446"
      ]
     },
     "execution_count": 22,
     "metadata": {},
     "output_type": "execute_result"
    }
   ],
   "source": [
    "# Mean\n",
    "sample = [1,2,3,2,1,4,5,6,7]\n",
    "\n",
    "mean = sum(sample) / len(sample)\n",
    "mean"
   ]
  },
  {
   "cell_type": "code",
   "execution_count": 23,
   "id": "3cb3905b-bc48-442b-88ea-6452e936a7b9",
   "metadata": {},
   "outputs": [
    {
     "data": {
      "text/plain": [
       "81.4"
      ]
     },
     "execution_count": 23,
     "metadata": {},
     "output_type": "execute_result"
    }
   ],
   "source": [
    "# Weighted Mean ( assiginig weights to each value )\n",
    "sample = [90, 80, 63, 87]\n",
    "weights = [0.20, 0.20 , 0.20 , 0.40]\n",
    "\n",
    "weighted_mean = sum( s * w for s,w in zip(sample,weights)) / sum(weights)\n",
    "weighted_mean"
   ]
  },
  {
   "cell_type": "code",
   "execution_count": 24,
   "id": "5822b44c-a8ce-4bb1-b3f2-e2cac4dd5065",
   "metadata": {},
   "outputs": [
    {
     "data": {
      "text/plain": [
       "7"
      ]
     },
     "execution_count": 24,
     "metadata": {},
     "output_type": "execute_result"
    }
   ],
   "source": [
    "# Median\n",
    "import statistics\n",
    "\n",
    "sample = [0,1,5,7,9,10,14]\n",
    "statistics.median(sample)"
   ]
  },
  {
   "cell_type": "code",
   "execution_count": 25,
   "id": "4cd65d27-c13e-47c4-b835-2a6cf015bed3",
   "metadata": {},
   "outputs": [
    {
     "data": {
      "text/plain": [
       "0"
      ]
     },
     "execution_count": 25,
     "metadata": {},
     "output_type": "execute_result"
    }
   ],
   "source": [
    "# Mode ( used when data is repetetive )\n",
    "\n",
    "statistics.mode(sample)"
   ]
  },
  {
   "cell_type": "code",
   "execution_count": 26,
   "id": "a6a43fbc-5d92-4f36-9b28-d99959359272",
   "metadata": {},
   "outputs": [],
   "source": [
    "import scipy"
   ]
  },
  {
   "cell_type": "markdown",
   "id": "65f8b220-751a-4cc3-96dd-54a0d84e9685",
   "metadata": {},
   "source": [
    "### *Measures of Asymmetry*\n",
    "\n"
   ]
  },
  {
   "cell_type": "markdown",
   "id": "07d93126-73ca-49b5-8da3-c2158bfc2c77",
   "metadata": {},
   "source": [
    "#### *Skewness*\n",
    "\n",
    "Skewness is a way of estimating and measuring the shape of a distribution. It is a vital statistical method for estimating asymmetrical behavior rather than computing the frequency distribution. Its value can be either positive or negative.\n",
    "\n",
    "The distribution of skewness values is as below:\n",
    "\n",
    "- Skewness = 0 when the distribution is normal.\n",
    "- Skewness > 0 or positive when more weight is on the left side of the distribution.\n",
    "- Skewness < 0 or negative when more weight is on the right side of the distribution.\n"
   ]
  },
  {
   "cell_type": "code",
   "execution_count": 27,
   "id": "26bef878-71dc-4e87-b5b6-c44933b49fe5",
   "metadata": {},
   "outputs": [
    {
     "data": {
      "text/plain": [
       "0.9064461387548666"
      ]
     },
     "execution_count": 27,
     "metadata": {},
     "output_type": "execute_result"
    }
   ],
   "source": [
    "# Computing skewness\n",
    "\n",
    "dataset = [10, 25, 14, 26, 35, 45, 67, 90, 40, 50, 60, 10, 16, 18, 20]\n",
    "scipy.stats.skew(dataset, axis = 0, bias = True)"
   ]
  },
  {
   "cell_type": "markdown",
   "id": "5f7461fd-9d60-41b4-9f94-b3e95a979f98",
   "metadata": {},
   "source": [
    "#### *Kurtosis*\n",
    "\n",
    "Kurtosis is a statistical term that characterizes frequency distribution. Aside from determining if a distribution is heavy-tailed, it also provides insight into the shape of the frequency distribution.\n",
    "\n",
    "Kurtosis of a normal distribution is equal to 3. When the kurtosis is less than 3, it is known as platykurtic, and when it is greater than 3, it is leptokurtic. If it is leptokurtic, it will signify that it produces outliers rather than a normal distribution."
   ]
  },
  {
   "cell_type": "code",
   "execution_count": 28,
   "id": "43634b12-17a2-4857-936b-bb105f94eedd",
   "metadata": {},
   "outputs": [
    {
     "data": {
      "text/plain": [
       "-0.05281076796516482"
      ]
     },
     "execution_count": 28,
     "metadata": {},
     "output_type": "execute_result"
    }
   ],
   "source": [
    "scipy.stats.kurtosis(dataset, axis = 0, fisher = True, bias = True)"
   ]
  },
  {
   "cell_type": "markdown",
   "id": "2f40160d-fcda-4651-a857-6be5d87a5838",
   "metadata": {},
   "source": [
    "#### *L-moments* \n",
    "\n",
    "are a set of measures that are used to describe the shape of a distribution. They are based on the moments of the order statistics of the distribution and are less sensitive to outliers than traditional moments. \n",
    "\n",
    "- The first L-moment is equivalent to the mean\n",
    "- The second L-moment is related to the variance\n",
    "- The third L-moment is related to skewness\n",
    "- The fourth L-moment is related to kurtosis"
   ]
  },
  {
   "cell_type": "markdown",
   "id": "c6ca1ed1-4f5e-4269-946f-f0d24479026d",
   "metadata": {},
   "source": [
    "### *Measures of Variablity*"
   ]
  },
  {
   "cell_type": "markdown",
   "id": "a0841f0d-3681-4c27-b816-b71592678c14",
   "metadata": {},
   "source": [
    "Measures of variability are used to quantify the degree of spread or dispersion of the data."
   ]
  },
  {
   "cell_type": "code",
   "execution_count": 29,
   "id": "523c62ae-07ad-4e07-afef-f1b6e8a2d211",
   "metadata": {},
   "outputs": [],
   "source": [
    "import numpy as np"
   ]
  },
  {
   "cell_type": "markdown",
   "id": "b50e3127-585f-4e0f-9ef4-4b554430502b",
   "metadata": {},
   "source": [
    "### *Variance*"
   ]
  },
  {
   "cell_type": "code",
   "execution_count": 30,
   "id": "858d74b0-fef3-4067-9329-b0bfbea6077d",
   "metadata": {},
   "outputs": [
    {
     "data": {
      "text/plain": [
       "518.0622222222222"
      ]
     },
     "execution_count": 30,
     "metadata": {},
     "output_type": "execute_result"
    }
   ],
   "source": [
    "np.var(dataset)"
   ]
  },
  {
   "cell_type": "markdown",
   "id": "8a126003-87a7-45fa-a8ce-070f3a9bb7c5",
   "metadata": {},
   "source": [
    "#### *Standard Deviation* - \" Square Root of Variance  \""
   ]
  },
  {
   "cell_type": "code",
   "execution_count": 31,
   "id": "f7f241ac-0f74-486c-a8ec-5c6ead4f7496",
   "metadata": {},
   "outputs": [
    {
     "data": {
      "text/plain": [
       "22.76098025618014"
      ]
     },
     "execution_count": 31,
     "metadata": {},
     "output_type": "execute_result"
    }
   ],
   "source": [
    "np.std(dataset)"
   ]
  },
  {
   "cell_type": "markdown",
   "id": "32d35bac-86eb-4410-844a-eb0640587aa2",
   "metadata": {},
   "source": [
    "#### *Coefficient of Variation*\n",
    "\n",
    "used for comparing the variation between 2 datasets"
   ]
  },
  {
   "cell_type": "code",
   "execution_count": 32,
   "id": "423500db-d000-404b-b427-84539fd05388",
   "metadata": {},
   "outputs": [],
   "source": [
    "new_dataset = dataset * 2\n",
    "\n",
    "# Coefficient of variation\n",
    "cv_1 = np.std(dataset, ddof=1) / np.mean(dataset)"
   ]
  },
  {
   "cell_type": "code",
   "execution_count": 33,
   "id": "ca490199-bb3f-41bd-94f7-cfc845d0a31d",
   "metadata": {},
   "outputs": [
    {
     "name": "stdout",
     "output_type": "stream",
     "text": [
      "0.6718589217915926 0.6601735274008858\n"
     ]
    }
   ],
   "source": [
    "# Coefficient of variation\n",
    "cv_2 = np.std(new_dataset, ddof=1) / np.mean(new_dataset)\n",
    "\n",
    "print(cv_1 , cv_2 )"
   ]
  },
  {
   "cell_type": "markdown",
   "id": "17a0a9ec-c4c8-4305-b776-56bd4e3ef200",
   "metadata": {},
   "source": [
    "### *REMEMBER!*\n",
    "\n",
    "When we calculate sample variance and std dev we divide by n-1 rather than total number of items n. "
   ]
  },
  {
   "cell_type": "markdown",
   "id": "8adba3be-c2bc-4585-b0d7-b41a56e4436a",
   "metadata": {},
   "source": [
    "### *Measures of relationship between variables*"
   ]
  },
  {
   "cell_type": "markdown",
   "id": "df0839ee-d6f3-4748-9e1a-eadb0c30c627",
   "metadata": {},
   "source": [
    "#### *Correlation Metrics*\n",
    "\n",
    "-1 , 0 , 1\n",
    "\n",
    "https://realpython.com/numpy-scipy-pandas-correlation-python/#correlation"
   ]
  },
  {
   "cell_type": "markdown",
   "id": "2609e710-08bb-4507-b913-9ff4f2f69deb",
   "metadata": {},
   "source": [
    "- Pearson’s r\n",
    "- Spearman’s rho\n",
    "- Kendall’s tau\n",
    "\n",
    "Pearson’s coefficient measures linear correlation, while the Spearman and Kendall coefficients compare the ranks of data."
   ]
  },
  {
   "cell_type": "code",
   "execution_count": 106,
   "id": "9fc651c5-6891-455d-b5c4-e01a68d92b17",
   "metadata": {},
   "outputs": [],
   "source": [
    "import scipy.stats\n",
    "import matplotlib.pyplot as plt\n",
    "\n",
    "x = np.arange(10, 20)\n",
    "y = np.array([2, 1, 4, 5, 8, 12, 18, 25, 96, 48])"
   ]
  },
  {
   "cell_type": "code",
   "execution_count": 107,
   "id": "e696bda1-fc4e-40da-83cf-0c30978f11c0",
   "metadata": {},
   "outputs": [
    {
     "data": {
      "text/plain": [
       "array([[1.        , 0.75864029],\n",
       "       [0.75864029, 1.        ]])"
      ]
     },
     "execution_count": 107,
     "metadata": {},
     "output_type": "execute_result"
    }
   ],
   "source": [
    "r = np.corrcoef(x, y)\n",
    "r"
   ]
  },
  {
   "cell_type": "code",
   "execution_count": 108,
   "id": "bb1b8fa9-a9ce-4d0b-a880-d15cf8fba056",
   "metadata": {},
   "outputs": [
    {
     "data": {
      "text/plain": [
       "0.7586402890911867"
      ]
     },
     "execution_count": 108,
     "metadata": {},
     "output_type": "execute_result"
    }
   ],
   "source": [
    "r[0, 1]"
   ]
  },
  {
   "cell_type": "code",
   "execution_count": 109,
   "id": "7ff732b5-a71c-470b-a36c-2cdbd941aee0",
   "metadata": {},
   "outputs": [],
   "source": [
    "r = scipy.stats.pearsonr(x, y)\n",
    "\n",
    "s = scipy.stats.spearmanr(x, y)   \n",
    "\n",
    "k = scipy.stats.kendalltau(x, y)"
   ]
  },
  {
   "cell_type": "markdown",
   "id": "c393a28d-deb6-467b-ad5a-08365b0ba93d",
   "metadata": {},
   "source": [
    "#### *Linear Correlation*\n",
    "Linear correlation measures the proximity of the mathematical relationship between variables or dataset features to a linear function. If the relationship between the two features is closer to some linear function, then their linear correlation is stronger and the absolute value of the correlation coefficient is higher."
   ]
  },
  {
   "cell_type": "code",
   "execution_count": 110,
   "id": "47f06a57-bbc4-4b4e-972c-6d32e67fb6cf",
   "metadata": {},
   "outputs": [
    {
     "data": {
      "text/plain": [
       "PearsonRResult(statistic=0.758640289091187, pvalue=0.010964341301680813)"
      ]
     },
     "execution_count": 110,
     "metadata": {},
     "output_type": "execute_result"
    }
   ],
   "source": [
    "r"
   ]
  },
  {
   "cell_type": "markdown",
   "id": "645db562-0814-4977-8d79-2a3f496ed767",
   "metadata": {},
   "source": [
    "#### *Rank Correlation*\n",
    "Rank correlation compares the ranks or the orderings of the data related to two variables or dataset features. If the orderings are similar, then the correlation is strong, positive, and high. However, if the orderings are close to reversed, then the correlation is strong, negative, and low. In other words, rank correlation is concerned only with the order of values, not with the particular values from the dataset."
   ]
  },
  {
   "cell_type": "code",
   "execution_count": 111,
   "id": "47dd0356-05c7-4688-b0ae-3d1806877a40",
   "metadata": {},
   "outputs": [
    {
     "data": {
      "text/plain": [
       "SpearmanrResult(correlation=0.9757575757575757, pvalue=1.4675461874042197e-06)"
      ]
     },
     "execution_count": 111,
     "metadata": {},
     "output_type": "execute_result"
    }
   ],
   "source": [
    "s"
   ]
  },
  {
   "cell_type": "code",
   "execution_count": 112,
   "id": "bae0666d-daf1-4be7-8aef-023fc679418d",
   "metadata": {},
   "outputs": [
    {
     "data": {
      "text/plain": [
       "KendalltauResult(correlation=0.911111111111111, pvalue=2.9761904761904762e-05)"
      ]
     },
     "execution_count": 112,
     "metadata": {},
     "output_type": "execute_result"
    }
   ],
   "source": [
    "k"
   ]
  },
  {
   "cell_type": "markdown",
   "id": "b2bc6b8f-c166-4958-970d-050755f39831",
   "metadata": {},
   "source": [
    "### *Inferential Statistics*"
   ]
  },
  {
   "cell_type": "markdown",
   "id": "63a1d219-2253-4c4b-9b5d-02f0fa11978d",
   "metadata": {},
   "source": [
    "#### *Distribution*\n",
    "\n",
    "is a function that shows the possible values for a variable and how often they occur."
   ]
  },
  {
   "cell_type": "markdown",
   "id": "4150584b-8190-4307-810e-1d9bb17c22e8",
   "metadata": {},
   "source": [
    "Note: Heavy tail means that there is a larger probability of getting very large values (outliers)."
   ]
  },
  {
   "cell_type": "markdown",
   "id": "6c7b7740-5466-494a-bc5b-cbe9dc8affb3",
   "metadata": {},
   "source": [
    "#### *Gaussian Distribution - Normal Distribution*\n",
    "\n",
    "- symmetrical; both sides are identically mirrored at the mean (center)\n",
    "\n",
    "- most mass is at the center around the mean\n",
    "\n",
    "- it has a spread that is specified by standard deviation\n",
    "\n",
    "- the tails are the least likely outcomes and approach zero infinitely but never touch zero\n",
    "\n",
    "- it resembles a phenomena in nature and daily life; generalizes nonnormal problems because of Central Limit Theorem"
   ]
  },
  {
   "cell_type": "markdown",
   "id": "a84fe441-f022-412c-9960-0ff77e9dca60",
   "metadata": {},
   "source": [
    "from matplotlib import pyplot \n",
    "from numpy.random import normal \n",
    "from numpy import mean\n",
    "from numpy import std\n",
    "from scipy.stats import norm"
   ]
  },
  {
   "cell_type": "code",
   "execution_count": 123,
   "id": "b1dea2cc-c2b9-46f7-8cb2-562ba2154bca",
   "metadata": {},
   "outputs": [],
   "source": [
    "# generate a sample\n",
    "import matplotlib.pyplot as pyplot\n",
    "import numpy as np\n",
    "\n",
    "sample = np.random.normal(loc=50, scale=5, size=1000)\n",
    "#print(sample)"
   ]
  },
  {
   "cell_type": "markdown",
   "id": "6f4e209c-a4c6-40fa-afad-61731b1d4d8b",
   "metadata": {},
   "source": [
    "### *Probability Density Function*\n",
    "\n",
    "the shape of a historgam will help us determine which type of a function it is."
   ]
  },
  {
   "cell_type": "code",
   "execution_count": 124,
   "id": "0c04b3fe-afd0-477b-a257-75b2428d4921",
   "metadata": {},
   "outputs": [
    {
     "ename": "TypeError",
     "evalue": "'float' object is not callable",
     "output_type": "error",
     "traceback": [
      "\u001b[0;31m---------------------------------------------------------------------------\u001b[0m",
      "\u001b[0;31mTypeError\u001b[0m                                 Traceback (most recent call last)",
      "\u001b[0;32m/var/folders/jj/w6525fjd4b9gg6d8r4zyzry40000gn/T/ipykernel_12912/24108507.py\u001b[0m in \u001b[0;36m<module>\u001b[0;34m\u001b[0m\n\u001b[0;32m----> 1\u001b[0;31m \u001b[0msample_mean\u001b[0m \u001b[0;34m=\u001b[0m \u001b[0mmean\u001b[0m\u001b[0;34m(\u001b[0m\u001b[0msample\u001b[0m\u001b[0;34m)\u001b[0m\u001b[0;34m\u001b[0m\u001b[0;34m\u001b[0m\u001b[0m\n\u001b[0m\u001b[1;32m      2\u001b[0m \u001b[0msample_std\u001b[0m \u001b[0;34m=\u001b[0m \u001b[0mstd\u001b[0m\u001b[0;34m(\u001b[0m\u001b[0msample\u001b[0m\u001b[0;34m)\u001b[0m\u001b[0;34m\u001b[0m\u001b[0;34m\u001b[0m\u001b[0m\n\u001b[1;32m      3\u001b[0m \u001b[0;34m\u001b[0m\u001b[0m\n\u001b[1;32m      4\u001b[0m \u001b[0mdist\u001b[0m \u001b[0;34m=\u001b[0m \u001b[0mnorm\u001b[0m\u001b[0;34m(\u001b[0m\u001b[0msample_mean\u001b[0m\u001b[0;34m,\u001b[0m \u001b[0msample_std\u001b[0m\u001b[0;34m)\u001b[0m\u001b[0;34m\u001b[0m\u001b[0;34m\u001b[0m\u001b[0m\n\u001b[1;32m      5\u001b[0m \u001b[0mdist\u001b[0m\u001b[0;34m\u001b[0m\u001b[0;34m\u001b[0m\u001b[0m\n",
      "\u001b[0;31mTypeError\u001b[0m: 'float' object is not callable"
     ]
    }
   ],
   "source": [
    "sample_mean = mean(sample)\n",
    "sample_std = std(sample)\n",
    "\n",
    "dist = norm(sample_mean, sample_std)\n",
    "dist\n",
    "\n",
    "# sample probabilities for a range of outcomes\n",
    "values = [value for value in range(30,70)]\n",
    "probabilities = [dist.pdf(value) for value in values]"
   ]
  },
  {
   "cell_type": "code",
   "execution_count": 125,
   "id": "7f5d6347-d908-437f-94f1-b7a451413c73",
   "metadata": {},
   "outputs": [],
   "source": [
    "#plotting density function and comparing histogram shape"
   ]
  },
  {
   "cell_type": "code",
   "execution_count": 126,
   "id": "d8c9ca7c-3729-4c53-a2a5-a2a10a268a6e",
   "metadata": {},
   "outputs": [],
   "source": [
    "#compare samples of the function with real samples"
   ]
  },
  {
   "cell_type": "code",
   "execution_count": 127,
   "id": "dbf65244-7ea5-4bd7-b35d-328cbdee3ed9",
   "metadata": {},
   "outputs": [
    {
     "data": {
      "image/png": "[encoded data removed]",
      "text/plain": [
       "<Figure size 640x480 with 1 Axes>"
      ]
     },
     "metadata": {},
     "output_type": "display_data"
    }
   ],
   "source": [
    "pyplot.hist(sample , bins=25 , density=True)\n",
    "pyplot.plot(values, probabilities)\n",
    "pyplot.show()"
   ]
  },
  {
   "cell_type": "markdown",
   "id": "000f0e15-a3cb-4cdf-92a0-2ba87ea6e46d",
   "metadata": {},
   "source": [
    "### *Non Parametric Density Estimation*\n",
    "\n",
    "in cases where the shape of our histogram doesnt match the PDF , we calculate the denisty using all samples in our data using certain algorithms.\n",
    "\n",
    "Commonly used terms:\n",
    "\n",
    "- Kernel Density Estimation \n",
    "\n",
    "- Smoothing Parameter\n",
    "\n",
    "- Basis Function"
   ]
  },
  {
   "cell_type": "code",
   "execution_count": 141,
   "id": "43a4ce6e-9857-4dae-862c-cc7d71c11da8",
   "metadata": {},
   "outputs": [],
   "source": [
    "from numpy import hstack\n",
    "from numpy import asarray\n",
    "from numpy import exp\n",
    "from sklearn.neighbors import KernelDensity\n",
    "\n",
    "sample_1 = np.random.normal(loc=20, scale=5, size=300)\n",
    "sample_2 = np.random.normal(loc=40, scale=5, size=700)\n",
    "\n",
    "sample = np.hstack((sample_1, sample_2))\n",
    "\n"
   ]
  },
  {
   "cell_type": "code",
   "execution_count": 142,
   "id": "ee3072cc-9259-4a4f-a3da-f920c493849a",
   "metadata": {},
   "outputs": [
    {
     "data": {
      "image/png": "[encoded data removed]",
      "text/plain": [
       "<Figure size 640x480 with 1 Axes>"
      ]
     },
     "metadata": {},
     "output_type": "display_data"
    }
   ],
   "source": [
    "pyplot.hist(sample , bins = 50 , density=True)\n",
    "pyplot.show()"
   ]
  },
  {
   "cell_type": "code",
   "execution_count": 143,
   "id": "71369064-6a6f-4488-81ce-ba93c55086b3",
   "metadata": {},
   "outputs": [],
   "source": [
    "# fit non parametric density "
   ]
  },
  {
   "cell_type": "code",
   "execution_count": 144,
   "id": "939b1dee-eabf-4a5b-adb3-5e5099d6ba52",
   "metadata": {},
   "outputs": [
    {
     "data": {
      "text/plain": [
       "KernelDensity(bandwidth=2)"
      ]
     },
     "execution_count": 144,
     "metadata": {},
     "output_type": "execute_result"
    }
   ],
   "source": [
    "model = KernelDensity(bandwidth=2 , kernel='gaussian')\n",
    "sample = sample.reshape((len(sample), 1))\n",
    "model.fit(sample)"
   ]
  },
  {
   "cell_type": "code",
   "execution_count": 145,
   "id": "ba3822a5-555a-4d02-a34f-7e0dc4d59327",
   "metadata": {},
   "outputs": [
    {
     "data": {
      "image/png": "[encoded data removed]",
      "text/plain": [
       "<Figure size 640x480 with 1 Axes>"
      ]
     },
     "metadata": {},
     "output_type": "display_data"
    }
   ],
   "source": [
    "values = asarray([value for value in range(1,60)])\n",
    "values = values.reshape((len(values) , 1))\n",
    "probabilities = model.score_samples(values)\n",
    "probabilities = exp(probabilities)\n",
    "\n",
    "pyplot.hist(sample , bins = 50 , density=True)\n",
    "pyplot.plot(values[:] , probabilities)\n",
    "pyplot.show()"
   ]
  },
  {
   "cell_type": "markdown",
   "id": "2de244d1-23c6-4a57-9ebe-f92afc607421",
   "metadata": {},
   "source": [
    "#### *STANDARDIZATION*\n",
    "\n",
    "**STANDARDIZATION** IS PROCESS OF TRANSFORMING THE VARIABLE TO ONE WITH THE MEAN OF 0 AND STD. DEV. OF 1\n",
    "\n",
    "WE CAN **STANDARDIZE** NORMAL DISTRIBUTION AND OBTAIN STANDARD NORMAL DIST.\n",
    "\n",
    "- standardized_data = (data - dataset_mean) / std \n",
    "\n",
    "- standarized variable is called z score\n",
    "\n",
    "Transforming  std to 1 and  mean 0"
   ]
  },
  {
   "cell_type": "code",
   "execution_count": 146,
   "id": "260b24ff-daa2-45b6-b41f-fe0a6f092e3b",
   "metadata": {},
   "outputs": [
    {
     "data": {
      "image/png": "[encoded data removed]",
      "text/plain": [
       "<Figure size 1000x400 with 2 Axes>"
      ]
     },
     "metadata": {},
     "output_type": "display_data"
    }
   ],
   "source": [
    "# Generate sample\n",
    "sample = np.random.normal(loc=50, scale=1, size=1000)\n",
    "\n",
    "# Create a figure with two subplots\n",
    "fig, axs = plt.subplots(1, 2, figsize=(10, 4))\n",
    "\n",
    "# Plot the histogram of the sample\n",
    "axs[0].hist(sample, bins=25, density=True)\n",
    "axs[0].set_xlabel('Value')\n",
    "axs[0].set_ylabel('Density')\n",
    "axs[0].set_title('Sample from Normal Distribution: mean=50, std=1')\n",
    "axs[0].grid(True)\n",
    "\n",
    "\n",
    "\n",
    "# Standardize the sample\n",
    "sample_mean = np.mean(sample)\n",
    "sample_std = np.std(sample)\n",
    "standardized_sample = (sample - sample_mean) / sample_std\n",
    "\n",
    "# Plot the histogram of the standardized sample\n",
    "axs[1].hist(standardized_sample, bins=10, density=True)\n",
    "axs[1].set_xlabel('Value')\n",
    "axs[1].set_ylabel('Density')\n",
    "axs[1].set_title('Standardized Sample')\n",
    "axs[1].grid(True)\n",
    "\n",
    "# Adjust the spacing between subplots\n",
    "plt.tight_layout()\n",
    "\n",
    "# Show the plot\n",
    "plt.show()"
   ]
  },
  {
   "cell_type": "markdown",
   "id": "fedaf83a-1e1d-4cae-b800-9694223eadc3",
   "metadata": {},
   "source": [
    "### *SAMPLING ALGORITHMS*\n",
    "\n",
    "\n",
    "Two main types of sampling in statistics:\n",
    "\n",
    "\n",
    "The first type is survey sampling which draws samples from a set or population.\n",
    "\n",
    "Some of the popular methods in survey sampling are:\n",
    "\n",
    "- Simple Random Sampling\n",
    "\n",
    "- Bootstrapping \n",
    "\n",
    "- Stratified sampling, \n",
    "\n",
    "- Cluster sampling \n",
    "\n",
    "- Multistage sampling\n",
    "\n",
    "- Network sampling\n",
    "\n",
    "- Snowball sampling\n",
    "\n",
    "\n",
    "\n",
    "\n",
    "The second type is sampling from probability distribution where we have a probability density or mass function.The sampling methods which perform this sampling approxima- tion are referred to as the Monte Carlo methods.\n",
    "Monte Carlo methods can be divided into two main categories:\n",
    "\n",
    "Simple Monte Carlo methods:\n",
    "\n",
    "- Importance sampling\n",
    "\n",
    "- Rejection sampling\n",
    "\n",
    "&\n",
    "\n",
    "\n",
    "Markov Chain Monte Carlo (MCMC):\n",
    "\n",
    "- Metropolis algorithm\n",
    "\n",
    "- Metropolis-Hastings algorithm\n",
    "\n",
    "- Gibbs sampling\n",
    "\n",
    "- slice sampling\n",
    "\n",
    "Faster exploration of range of data by sampling methods, are:\n",
    "\n",
    "- Hamiltonian (or hybrid) Monte Carlo method\n",
    "\n",
    "\n",
    "- Adler’s overrelaxation\n",
    "\n",
    "\n",
    "-  Ordered overrelaxation\n",
    "\n",
    "\n",
    "\n",
    "\n",
    "\n",
    "### *CENTRAL LIMIT THEOREM* \n",
    "\n",
    "ALLOWS US TO PERFORM TESTS SOLVE PROBLEMS AND MAKE INFERENCES USING NORMAL DISTRIBUTION EVEN WHEN THE POPULATION IS NOT NORMALLY DISTRIBUTE. NO MATTER THE UNDERLYING DISTRIBUTION THE SAMPLING DISTRIBUTION APPROXIMATES A NORMAL.\n",
    "\n",
    "N > 30\n",
    "\n",
    "Size of samples should be > 30 for CLT to work.\n",
    "\n",
    "Sometimes you might need even larger data samples such as when the underlying distribution is asymmetrical or multimodal.\n",
    "\n",
    "- 1. TAKING LARGE ENOUGH SAMPLES OF A POPULATION* \n",
    "\n",
    "- 2. CALCULATE THE MEAN OF EACH*\n",
    "\n",
    "- 3. PLOT THEM AS A DISTRIBUTION*"
   ]
  },
  {
   "cell_type": "code",
   "execution_count": 147,
   "id": "0e56cb9c-f7ac-4715-b4ad-f8b44538a7ca",
   "metadata": {},
   "outputs": [
    {
     "data": {
      "image/png": "[encoded data removed]",
      "text/plain": [
       "<Figure size 640x480 with 1 Axes>"
      ]
     },
     "metadata": {},
     "output_type": "display_data"
    }
   ],
   "source": [
    "population = np.random.uniform(-1,0,1000)\n",
    "pyplot.hist(population, bins=35)\n",
    "pyplot.show()"
   ]
  },
  {
   "cell_type": "code",
   "execution_count": 148,
   "id": "c9ccebc0-70e2-4e00-8dbd-e6dbd171020c",
   "metadata": {},
   "outputs": [
    {
     "data": {
      "image/png": "[encoded data removed]",
      "text/plain": [
       "<Figure size 640x480 with 1 Axes>"
      ]
     },
     "metadata": {},
     "output_type": "display_data"
    }
   ],
   "source": [
    "# Draw samples and calculate sample means\n",
    "sample_size = 31\n",
    "num_samples = 1000\n",
    "\n",
    "sample_means = []\n",
    "for i in range(num_samples):\n",
    "    sample = np.random.choice(population, size=sample_size)\n",
    "    sample_mean = np.mean(sample)\n",
    "    sample_means.append(sample_mean)\n",
    "\n",
    "# plotting the sample means which gives us the normal distribution\n",
    "pyplot.hist(sample_means, bins= 26)\n",
    "pyplot.show()"
   ]
  },
  {
   "cell_type": "markdown",
   "id": "8a66d79c-6656-44ca-ad41-0f27a24ad387",
   "metadata": {},
   "source": [
    "### *LAW OF LARGE NUMBERS*\n",
    "\n",
    "##### NOTE :\n",
    "AS THE SIZE OF SAMPLES INCREASES , THE ESTIMATE OF SAMPLE MEAN WILL MORE ACCURATLEY REFLECT THE POPULATION MEAN!"
   ]
  },
  {
   "cell_type": "markdown",
   "id": "335d4687-80b8-47e8-97e5-c7cf8dfd7e9d",
   "metadata": {},
   "source": [
    "### *STANDARD ERROR*\n",
    "\n",
    "- Standard deviation of the distribution formed by the sample means\n",
    "\n",
    "- Variability of the means of different sample we extract\n",
    "\n",
    "- Standard error decreases when sample size increases\n",
    "\n",
    "\n",
    "\n",
    "\n",
    "Standard error of the mean = s / √n\n",
    "\n",
    "where:\n",
    "\n",
    "s: sample standard deviation\n",
    "n: sample size\n",
    "\n",
    "\n",
    "\n",
    "from scipy.stats import sem\n",
    "\n",
    "#define dataset \n",
    "data = [3, 4, 4, 5, 7, 8, 12, 14, 14, 15, 17, 19, 22, 24, 24, 24, 25, 28, 28, 29]\n",
    "\n",
    "#calculate standard error of the mean \n",
    "sem(data)\n",
    "\n",
    "\n",
    "\n",
    "### *SAMPLE STANDARD DEVIATION*\n",
    "\n",
    "sample_std = population_std / sqrt(len(sample))"
   ]
  },
  {
   "cell_type": "markdown",
   "id": "e4d9e107-cd57-495d-b7b7-b8550d363f90",
   "metadata": {},
   "source": [
    "### *Estimators and Estimates*\n",
    "\n",
    "\n",
    "### *MSE and Bias-Variance decomposition*\n",
    "\n",
    "Bias-variance decomposition is extremely important if you want to get a really good grasp of things like overfitting, underfitting, and model capacity.\n",
    "\n",
    "\n",
    "### *ESTIMATORS*\n",
    "\n",
    "\n",
    "Estimator is any function on a sample of the data that usually tries to estimate some useful qualities of the original data from which the sample is drawn. Formally, estimator is a function on a sample S \n",
    "\n",
    "where x(i) is a random variable drawn from a distribution D, i.e. x(i) ~ D\n",
    "\n",
    "\n",
    "In books on statistics, it is often convenient to imagine that the data we are working with is a sample drawn from some distribution. Think of the stock market, in practice we can only monitor stock prices every ~10ms, but there is actually a hidden economic machinery which generates this data which we cannot observe due to its enormous complexity. This machinery describes the distribution and the data we observe is a sample.\n",
    "\n",
    "\n",
    "### *Bias-variance decomposition for estimators.*\n",
    "\n",
    "\n",
    "This decomposition provides insights into the trade-off between bias and variance. Estimators with high bias tend to underfit the data, while estimators with high variance tend to overfit. Striking the right balance between bias and variance is crucial in building robust and accurate models.\n",
    "\n",
    "In practice, various techniques such as regularization, cross-validation, and model selection are employed to manage the bias-variance trade-off and develop models that generalize well to unseen data."
   ]
  },
  {
   "cell_type": "markdown",
   "id": "b99f2c77-0222-4deb-8d0f-f25e45158ff3",
   "metadata": {},
   "source": [
    "### **POINT ESTIMATES** \n",
    "\n",
    "(not reliable) The point estimate is the midpoint of the confidence interval"
   ]
  },
  {
   "cell_type": "markdown",
   "id": "78f15749-9279-4051-89f3-1799b4549b08",
   "metadata": {},
   "source": [
    "### **CONFIDENCE INTERVALS**\n",
    "\n",
    "is the range within which you expect the population parameter to be."
   ]
  },
  {
   "cell_type": "markdown",
   "id": "28811e95-352e-4dd7-900d-b798884cec90",
   "metadata": {},
   "source": [
    "formula :       { sample mean - zscore of alpha / 2 * standard error , sample mean + zscore of alpha / 2 * standard error }\n",
    "\n",
    "\n",
    "Z score - critical value ( reliability factor ) - standardized variable that has standard normal distribution (mean 0 , std dev. 1)\n",
    "\n",
    "\n",
    "\n",
    "\n",
    "Confidence Interval = x  +/-  t*(s/√n)\n",
    "\n",
    "where:\n",
    "\n",
    "- x: sample mean\n",
    "- t: t-value that corresponds to the confidence level\n",
    "- s: sample standard deviation\n",
    "- n: sample size\n",
    "\n",
    "\n",
    "### Z-Statistic\n",
    "\n",
    "Finding confidence interval where population variance is KNOWN!"
   ]
  },
  {
   "cell_type": "markdown",
   "id": "c0d4e549-d77f-4403-9542-6bcc26fe4e46",
   "metadata": {},
   "source": [
    "#### 1. Choosing LOC ( Level of Confidence )"
   ]
  },
  {
   "cell_type": "code",
   "execution_count": 149,
   "id": "d1fee739-45c6-47c5-b541-c4bd5e411300",
   "metadata": {},
   "outputs": [],
   "source": [
    "# LOC = 95 %"
   ]
  },
  {
   "cell_type": "markdown",
   "id": "7a195619-15b3-4363-ba1d-588a692b75cb",
   "metadata": {},
   "source": [
    "#### 2. Getting The Critical Z-value "
   ]
  },
  {
   "cell_type": "code",
   "execution_count": 150,
   "id": "35e4c306-0186-4b36-aabd-4e661d69001c",
   "metadata": {},
   "outputs": [
    {
     "name": "stdout",
     "output_type": "stream",
     "text": [
      "(-1.959963984540054, 1.959963984540054)\n"
     ]
    }
   ],
   "source": [
    "# retriving z-value\n",
    "import math\n",
    "from math import sqrt\n",
    "from scipy.stats import norm\n",
    "\n",
    "def critical_z_value(p):\n",
    "    norm_dist = norm(loc=0.0 , scale=1.0)\n",
    "    left_tail_area = (1.0 - p ) / 2.0\n",
    "    upper_area = 1.0 - (1.0 - p) / 2.0\n",
    "    return norm_dist.ppf(left_tail_area), norm_dist.ppf(upper_area)\n",
    "\n",
    "print(critical_z_value(p=.95))"
   ]
  },
  {
   "cell_type": "markdown",
   "id": "5a1ec278-6316-4327-a156-f3c921abf131",
   "metadata": {},
   "source": [
    "#### 3. Calculating the Confidence Interval"
   ]
  },
  {
   "cell_type": "code",
   "execution_count": 151,
   "id": "90fa9de6-9f62-4e14-84b9-a48978251d49",
   "metadata": {},
   "outputs": [
    {
     "name": "stdout",
     "output_type": "stream",
     "text": [
      "(63.68635915701992, 65.12964084298008)\n"
     ]
    }
   ],
   "source": [
    "# calculating a confidence interval\n",
    "\n",
    "def confidence_interval(p , sample_mean, sample_std , n):\n",
    "    #sample size must be greater than 30\n",
    "    \n",
    "    lower , upper = critical_z_value(p)\n",
    "    lower_ci = lower * (sample_std / sqrt(n))\n",
    "    upper_ci = upper * (sample_std / sqrt(n))\n",
    "    \n",
    "    return sample_mean + lower_ci , sample_mean + upper_ci\n",
    "\n",
    "print(confidence_interval(p=.95 , sample_mean=64.408 , sample_std=2.05 , n=31))"
   ]
  },
  {
   "cell_type": "markdown",
   "id": "a52a2218-ee8a-4bd9-b8c6-0b42c74ae759",
   "metadata": {},
   "source": [
    "### T-Statistic\n",
    "\n",
    "https://www.statology.org/how-to-find-the-t-critical-value-in-python/\n",
    "\n",
    "To find the T critical value in Python, you can use the scipy.stats.t.ppf() function, which uses the following syntax:\n",
    "\n",
    "scipy.stats.t.ppf(q, df)\n",
    "\n",
    "where:\n",
    "\n",
    "- q: The significance level to use\n",
    "\n",
    "- df: The degrees of freedom\n",
    "\n",
    "\n",
    "\n",
    "Finding confidence interval where population variance is UNKNOWN!"
   ]
  },
  {
   "cell_type": "code",
   "execution_count": 152,
   "id": "9baa6515-e889-4143-bc72-c826fb147f1f",
   "metadata": {},
   "outputs": [
    {
     "name": "stdout",
     "output_type": "stream",
     "text": [
      "2.26\n"
     ]
    }
   ],
   "source": [
    "from scipy.stats import t\n",
    "\n",
    "confidence_level = 0.95  # Example confidence level (e.g., 95%)\n",
    "degrees_of_freedom = 9  # Example degrees of freedom\n",
    "\n",
    "# Find the t-critical value\n",
    "t_critical = t.ppf((1 + confidence_level) / 2, degrees_of_freedom)\n",
    "\n",
    "print(round((t_critical) , 2))\n"
   ]
  },
  {
   "cell_type": "markdown",
   "id": "87a1a743-c440-4625-9cb5-48b908516d1b",
   "metadata": {},
   "source": [
    "### *SUMMARY*\n",
    "\n",
    "- Margin of Error is the CI upper and lower bandwidth.\n",
    "\n",
    "- Smaller Sample Size and uknown population variance both contribute to the width of the interval.\n",
    "\n",
    "\n",
    "- The more observations there are in the sample , the higher the chances of getting a good idea about the true mean of the entire population."
   ]
  },
  {
   "cell_type": "code",
   "execution_count": 153,
   "id": "1989503b-ea63-4cdc-84ad-c32e1be52c96",
   "metadata": {},
   "outputs": [],
   "source": [
    "import numpy as np"
   ]
  },
  {
   "cell_type": "markdown",
   "id": "53c977e0-47f0-496f-9385-c36a0a6682a1",
   "metadata": {},
   "source": [
    "### *CONFIDENCE INTERVALS for TWO MEANS*\n",
    "\n",
    "\n",
    "#### *DEPENDENT SAMPLES*\n",
    "\n",
    "- before / after\n",
    "- cause / effect\n"
   ]
  },
  {
   "cell_type": "code",
   "execution_count": 154,
   "id": "403535ac-b8b8-4fa7-be61-4ea3e3f92bf6",
   "metadata": {},
   "outputs": [
    {
     "data": {
      "text/plain": [
       "array([1.12, 2.85, 2.2 , 1.8 , 0.47, 0.47, 0.17, 2.6 , 1.8 , 2.12])"
      ]
     },
     "execution_count": 154,
     "metadata": {},
     "output_type": "execute_result"
    }
   ],
   "source": [
    "seed_value = 42\n",
    "np.random.seed(seed_value)\n",
    "\n",
    "before = np.round(np.random.uniform(0, 3, size=10), 2)\n",
    "before\n"
   ]
  },
  {
   "cell_type": "code",
   "execution_count": 155,
   "id": "98460c69-48fc-436e-a6dd-d006caf2e6ad",
   "metadata": {},
   "outputs": [
    {
     "data": {
      "text/plain": [
       "array([0.63, 1.45, 1.26, 2.58, 0.51, 1.02, 0.81, 2.07, 0.66, 2.44])"
      ]
     },
     "execution_count": 155,
     "metadata": {},
     "output_type": "execute_result"
    }
   ],
   "source": [
    "seed_value = 22\n",
    "np.random.seed(seed_value)\n",
    "\n",
    "after = np.round(np.random.uniform(0, 3, size=10), 2)\n",
    "after"
   ]
  },
  {
   "cell_type": "code",
   "execution_count": 156,
   "id": "33bc5eca-eb8e-4914-b0f5-5536da63e51b",
   "metadata": {},
   "outputs": [],
   "source": [
    "difference = after - before\n",
    "\n",
    "# Calculate the sample mean and standard deviation of the difference\n",
    "diff_mean = np.mean(difference)\n",
    "diff_std = np.std(difference , ddof=1)\n",
    "\n",
    "# Calculate the sample size\n",
    "n = len(difference)"
   ]
  },
  {
   "cell_type": "code",
   "execution_count": 157,
   "id": "2d62ed94-124e-48ef-b68f-8e97d5f2cb87",
   "metadata": {},
   "outputs": [
    {
     "name": "stdout",
     "output_type": "stream",
     "text": [
      "2.26\n",
      "0.24984017113168794\n",
      "-0.21700000000000008\n"
     ]
    }
   ],
   "source": [
    "# FINDING CRITICAL T VALUE\n",
    "\n",
    "from scipy.stats import t\n",
    "from math import sqrt\n",
    "\n",
    "confidence_level = 0.95  #  confidence level (e.g., 95%)\n",
    "degrees_of_freedom = 9  #  degrees of freedom\n",
    "\n",
    "# Find the t-critical value\n",
    "t_critical = t.ppf((1 + confidence_level) / 2, degrees_of_freedom)\n",
    "\n",
    "# Calculate the standard error of the difference\n",
    "SE = diff_std / np.sqrt(n)\n",
    "\n",
    "print(round((t_critical) , 2))\n",
    "print(SE)\n",
    "print(diff_mean)"
   ]
  },
  {
   "cell_type": "code",
   "execution_count": 158,
   "id": "8897c2ae-7389-468f-9cfe-dfcea446aa93",
   "metadata": {},
   "outputs": [
    {
     "name": "stdout",
     "output_type": "stream",
     "text": [
      "Confidence Interval: [-0.3957248918034255, -0.038275108196574675]\n"
     ]
    }
   ],
   "source": [
    "# calculating confidence interval\n",
    "\n",
    "CI = [\n",
    "      diff_mean - t_critical * SE / sqrt(n) , \\\n",
    "      diff_mean + t_critical * SE / sqrt(n)\n",
    "]\n",
    "\n",
    "print(\"Confidence Interval:\", CI)"
   ]
  },
  {
   "cell_type": "code",
   "execution_count": 159,
   "id": "2d92e137-080d-4ce9-bc9e-b436a41cf4a8",
   "metadata": {},
   "outputs": [
    {
     "data": {
      "image/png": "[encoded data removed]",
      "text/plain": [
       "<Figure size 550x350 with 1 Axes>"
      ]
     },
     "metadata": {},
     "output_type": "display_data"
    }
   ],
   "source": [
    "import matplotlib.pyplot as plt\n",
    "# Plot the confidence interval\n",
    "plt.figure(figsize=(5.5,3.5))\n",
    "\n",
    "plt.axhline(y=diff_mean , color='red', label='Mean Difference')\n",
    "plt.axhline(y=CI[0], linestyle='dashed', color='blue', label='Lower Bound')\n",
    "plt.axhline(y=CI[1], linestyle='dashed', color='blue', label='Upper Bound')\n",
    "\n",
    "# Add labels and legend\n",
    "\n",
    "plt.xlabel('Confidence Interval')\n",
    "plt.ylabel('Difference between Means')\n",
    "plt.legend()\n",
    "\n",
    "# Show the plot\n",
    "plt.show()"
   ]
  },
  {
   "cell_type": "markdown",
   "id": "d922571d-3c10-4f80-b9ad-7216243b0570",
   "metadata": {},
   "source": [
    "#### *INDEPENDENT SAMPLES*"
   ]
  },
  {
   "cell_type": "markdown",
   "id": "29a28383-f9bb-4d64-aed1-3e1e21923798",
   "metadata": {},
   "source": [
    "- population with known variance\n",
    "\n",
    "z statistic will be used in this case\n",
    "\n",
    "x - y +/- z of alpha / 2 sqrt(SE_x**2 + SE_y**2)"
   ]
  },
  {
   "cell_type": "markdown",
   "id": "0b585bb4-930f-48bc-befb-f11450eb460d",
   "metadata": {},
   "source": [
    "- population with unknown variance but assumed to be equal\n",
    "\n",
    "t statistic will be used in this case\n",
    "\n",
    "pooled sample variance for estimating equal population variance"
   ]
  },
  {
   "cell_type": "markdown",
   "id": "2b35441e-e5c8-48a6-8c09-c99d06b0781a",
   "metadata": {},
   "source": [
    "- population with unknown variance but assumed to be different"
   ]
  },
  {
   "cell_type": "markdown",
   "id": "2acf0c54-86dc-4c54-8da7-2e0b2ffaed5a",
   "metadata": {},
   "source": [
    "### *HYPOTHESIS TESTING*\n",
    "\n",
    "A statistical hypothesis test is a method of statistical inference used to decide whether the data at hand sufficiently support a particular hypothesis. Hypothesis testing allows us to make probabilistic statements about population parameters.\n",
    "\n",
    "\n",
    "STEPS IN DATA DRIVEN DECISION MAKING\n",
    "\n",
    "1. Formulate a hypothesis\n",
    " \n",
    "2. Find the right test\n",
    "\n",
    "3. Execute the test\n",
    "\n",
    "4. Make a decision\n",
    "\n",
    "#### WHAT IS A HYPOTHESIS?\n",
    "\n",
    "IT IS AN IDEA THAT CAN BE TESTED.\n",
    "\n",
    "#### THERE ARE:\n",
    "\n",
    "NULL HYPOTHESIS - THE ONE TO BE TESTED AND TRYING TO REJECT ; IT SEEKS SOME SORT OF EQUALITY \n",
    "\n",
    "\n",
    "ALTERNATIVE HYPOTHESIS - EVERY THING ELSE ; OUR PERSONAL OPINION ; IT SEEKS SOME SORT OF DIFFERENCE \n",
    "\n",
    "\n",
    "#### HOW DOES HYPOTHESIS TESTING WORK?\n",
    "\n",
    "- calculate a statistic (e.g. sample mean )\n",
    "\n",
    "- scale it (e.g. z test)\n",
    "\n",
    "- check if z is in the rejection region\n",
    "\n",
    "\n",
    "### *Two-tailed test*\n",
    "\n",
    "is appropriate if the estimated value is greater or less than a certain range of values, for example, whether a test taker may score above or below a specific range of scores. This method is used for null hypothesis testing and if the estimated value exists in the critical areas, the alternative hypothesis is accepted over the null hypothesis. \n",
    "\n",
    "\n",
    "### *One-tailed test*\n",
    "\n",
    "is appropriate if the estimated value may depart from the reference value in only one direction, left or right, but not both. An example can be whether a machine produces more than one-percent defective products.\n"
   ]
  },
  {
   "cell_type": "markdown",
   "id": "c79f7a37-a01f-42e5-8dbe-4c6578960fd5",
   "metadata": {},
   "source": [
    "#### *REJECTION REGION AND SIGNIFICANCE LEVEL*\n",
    "\n",
    "Significance Level denoted by alpha ;\n",
    "It is the probability of rejecting the null hypothesis\n",
    "; typical values for alpha: 0.01 , 0.05 , 01\n",
    "\n",
    "\n",
    "Type I error or false positive comprises rejecting a null hypothesis that is true.\n",
    "\n",
    "Type II error is also known as false negative.\n",
    "\n",
    "Another way to call the probability of rejecting a null hypothesis that is false is Power of the test."
   ]
  },
  {
   "cell_type": "markdown",
   "id": "80d17df4-d5a1-416a-98b5-f6e5a4966984",
   "metadata": {},
   "source": [
    "### *Test for the mean where population variance is known.*"
   ]
  },
  {
   "cell_type": "code",
   "execution_count": 160,
   "id": "5c3d7501-356b-4164-8973-54769df1251c",
   "metadata": {},
   "outputs": [],
   "source": [
    "# Data scientist Salary\n",
    "import numpy as np\n",
    "from scipy.stats import sem\n",
    "from scipy import sqrt\n",
    "import scipy.stats as stats"
   ]
  },
  {
   "cell_type": "code",
   "execution_count": 161,
   "id": "2ba938cb-98af-42ed-82e8-668ac155f8d4",
   "metadata": {},
   "outputs": [],
   "source": [
    "dataset= [\n",
    "    117.313, 104.002, 113.038, \n",
    "    101.936, 84.56, 113.136, \n",
    "    80.74, 100.536, 105.052,\n",
    "    87.201, 91.986, 94.868, \n",
    "    90.745, 102.848, 85.927, \n",
    "    112.276, 108.637, 96.818, \n",
    "    92.307, 114.564, 109.714, \n",
    "    108.833, 115.295, 89.279, \n",
    "    81.72, 89.344, 114.426, \n",
    "    90.41, 95.118, 113.382\n",
    "]\n"
   ]
  },
  {
   "cell_type": "code",
   "execution_count": 162,
   "id": "388f6e58-588b-4e81-bbe5-43a4f98840ce",
   "metadata": {},
   "outputs": [],
   "source": [
    "sample_mean = np.mean(dataset)\n",
    "standard_error = sem(dataset)\n",
    "population_std = 15000\n",
    "sample_size = len(dataset)\n",
    "\n",
    "\n",
    "#calculate standard error of the mean \n",
    "s = np.std(dataset, ddof=1) / np.sqrt(np.size(dataset))\n",
    "s\n",
    "s = 2.739 # data from the course"
   ]
  },
  {
   "cell_type": "code",
   "execution_count": 163,
   "id": "079f37c4-8f7f-46fa-8ed3-8cb2e812051d",
   "metadata": {},
   "outputs": [],
   "source": [
    "null_hypo = 113.000"
   ]
  },
  {
   "cell_type": "code",
   "execution_count": 164,
   "id": "5c607b0e-80c0-4c51-aeae-137430c49f44",
   "metadata": {},
   "outputs": [],
   "source": [
    "Z_score = abs(sample_mean - null_hypo) / s\n",
    "\n",
    "# Z -> standarized variable associtaed with test called the Z score\n",
    "# z -> critical value from z-table"
   ]
  },
  {
   "cell_type": "code",
   "execution_count": 165,
   "id": "647df727-5ebe-4fd3-8e75-1abbcfde5667",
   "metadata": {},
   "outputs": [
    {
     "name": "stdout",
     "output_type": "stream",
     "text": [
      "Z Score is: 4.67\n"
     ]
    }
   ],
   "source": [
    "# comparing the Z-score as absolute value\n",
    "print(f'Z Score is: {round(Z_score , 2)}')"
   ]
  },
  {
   "cell_type": "markdown",
   "id": "82d78e62-f40b-407b-a94d-b2bb8c920d95",
   "metadata": {},
   "source": [
    "comparing the Z-score as absolute value with signifiance level alpha"
   ]
  },
  {
   "cell_type": "markdown",
   "id": "57db30b8-cd89-4d6a-b50c-ffc1acea8423",
   "metadata": {},
   "source": [
    "reject null hypothesis if: absolute value of Z score > positive value of critical value"
   ]
  },
  {
   "cell_type": "code",
   "execution_count": 166,
   "id": "4acd3002-2d2b-47e9-a6f2-85f557d91754",
   "metadata": {},
   "outputs": [],
   "source": [
    "a = 0.1"
   ]
  },
  {
   "cell_type": "code",
   "execution_count": 167,
   "id": "1ce48d28-f7a7-4983-86a9-295d3edd7df2",
   "metadata": {},
   "outputs": [
    {
     "name": "stdout",
     "output_type": "stream",
     "text": [
      "Critical value (z_alpha): 1.6448536269514722\n"
     ]
    }
   ],
   "source": [
    "\n",
    "\n",
    "# Significance level (alpha)\n",
    "alpha = a / 2\n",
    "\n",
    "# Find the critical value (z_alpha)\n",
    "z_alpha = stats.norm.ppf(1 - alpha)\n",
    "\n",
    "print(\"Critical value (z_alpha):\", z_alpha)\n"
   ]
  },
  {
   "cell_type": "code",
   "execution_count": 168,
   "id": "e47a470f-dbbd-480b-848e-d6866f41c95f",
   "metadata": {},
   "outputs": [
    {
     "name": "stdout",
     "output_type": "stream",
     "text": [
      "Reject the null hypothesis\n"
     ]
    }
   ],
   "source": [
    "if Z_score > z_alpha:\n",
    "    print(\"Reject the null hypothesis\")\n",
    "else:\n",
    "    print(\"Cannot reject the null hypothesis\")"
   ]
  },
  {
   "cell_type": "code",
   "execution_count": 169,
   "id": "655965be-3ba9-43f7-b7a2-3212b880bbfa",
   "metadata": {},
   "outputs": [
    {
     "data": {
      "image/jpeg": "[encoded data removed]",
      "text/html": [
       "\n",
       "        <iframe\n",
       "            width=\"400\"\n",
       "            height=\"300\"\n",
       "            src=\"https://www.youtube.com/embed/0oc49DyA3hU\"\n",
       "            frameborder=\"0\"\n",
       "            allowfullscreen\n",
       "            \n",
       "        ></iframe>\n",
       "        "
      ],
      "text/plain": [
       "<IPython.lib.display.YouTubeVideo at 0x7f93a89c7e20>"
      ]
     },
     "execution_count": 169,
     "metadata": {},
     "output_type": "execute_result"
    }
   ],
   "source": [
    "from IPython.lib.display import YouTubeVideo\n",
    "YouTubeVideo('0oc49DyA3hU')"
   ]
  },
  {
   "cell_type": "markdown",
   "id": "36f97be0-a865-4984-8bd2-f163a643e94e",
   "metadata": {},
   "source": [
    "### *P-VALUE*\n",
    "\n",
    "The p value is a number, calculated from a statistical test, that describes how likely you are to have found a particular set of observations if the null hypothesis were true.\n",
    "\n",
    "P values are used in hypothesis testing to help decide whether to reject the null hypothesis. The smaller the p value, the more likely you are to reject the null hypothesis.\n",
    "\n",
    "\n",
    "\n",
    "Reject the null hypothesis if p-value < alpha\n",
    "\n",
    "https://www.socscistatistics.com/pvalues/"
   ]
  },
  {
   "cell_type": "markdown",
   "id": "2f81a933-2e41-4747-8cd9-c72987e3709a",
   "metadata": {},
   "source": [
    "### *Test for the mean where population variance is unknown.*"
   ]
  },
  {
   "cell_type": "code",
   "execution_count": 170,
   "id": "ef9339d3-2a34-4830-a32a-58c4dc14412f",
   "metadata": {},
   "outputs": [],
   "source": [
    "open_rate = [26, 23, 42, 49, 23, 59, 29, 29, 57, 40]\n"
   ]
  },
  {
   "cell_type": "code",
   "execution_count": 171,
   "id": "491cf0d5-e2ae-4af7-8597-721010031358",
   "metadata": {},
   "outputs": [
    {
     "data": {
      "text/plain": [
       "37.7"
      ]
     },
     "execution_count": 171,
     "metadata": {},
     "output_type": "execute_result"
    }
   ],
   "source": [
    "rate_mean = np.mean(open_rate)\n",
    "rate_mean"
   ]
  },
  {
   "cell_type": "code",
   "execution_count": 172,
   "id": "3df58ece-960e-4f95-a920-c216a70d226b",
   "metadata": {},
   "outputs": [
    {
     "data": {
      "text/plain": [
       "13.74"
      ]
     },
     "execution_count": 172,
     "metadata": {},
     "output_type": "execute_result"
    }
   ],
   "source": [
    "rate_std = np.std(open_rate , ddof = 1)\n",
    "rate_std = round(rate_std , 2)\n",
    "rate_std"
   ]
  },
  {
   "cell_type": "code",
   "execution_count": 173,
   "id": "cf8ddfed-f88d-403e-a1a4-e03c1f134fc4",
   "metadata": {},
   "outputs": [
    {
     "data": {
      "text/plain": [
       "4.34"
      ]
     },
     "execution_count": 173,
     "metadata": {},
     "output_type": "execute_result"
    }
   ],
   "source": [
    "rate_std_error = round(sem(open_rate), 2)\n",
    "rate_std_error"
   ]
  },
  {
   "cell_type": "code",
   "execution_count": 174,
   "id": "051272f8-7e2e-4324-8987-9131352dbaae",
   "metadata": {},
   "outputs": [],
   "source": [
    "null_value = 40"
   ]
  },
  {
   "cell_type": "code",
   "execution_count": 175,
   "id": "653a3097-5a3e-4245-9831-71c83e0b77f6",
   "metadata": {},
   "outputs": [],
   "source": [
    "# students t dist due to unknown variance"
   ]
  },
  {
   "cell_type": "code",
   "execution_count": 176,
   "id": "e6eeca01-1928-48ae-b28d-58195a203430",
   "metadata": {},
   "outputs": [
    {
     "data": {
      "text/plain": [
       "-0.53"
      ]
     },
     "execution_count": 176,
     "metadata": {},
     "output_type": "execute_result"
    }
   ],
   "source": [
    "T_score = (rate_mean - null_value) / rate_std_error\n",
    "round(T_score , 2)"
   ]
  },
  {
   "cell_type": "code",
   "execution_count": 177,
   "id": "f0bf31e2-0976-47ac-a427-427d6e274d14",
   "metadata": {},
   "outputs": [],
   "source": [
    "degrees_f = len(open_rate) - 1 \n",
    "\n",
    "alpha = 0.05"
   ]
  },
  {
   "cell_type": "code",
   "execution_count": 178,
   "id": "30155398-2231-4610-ac39-9334cfa5919f",
   "metadata": {},
   "outputs": [],
   "source": [
    "t_crictial = 1.83"
   ]
  },
  {
   "cell_type": "code",
   "execution_count": 179,
   "id": "d2788657-7645-45bf-815c-d60f869222d4",
   "metadata": {},
   "outputs": [
    {
     "name": "stdout",
     "output_type": "stream",
     "text": [
      "Accept null hypothesis\n"
     ]
    }
   ],
   "source": [
    "if abs(T_score) < t_crictial:\n",
    "    print(\"Accept null hypothesis\")\n",
    "    \n",
    "else:\n",
    "    print(\"Reject null hypothesis\")"
   ]
  },
  {
   "cell_type": "code",
   "execution_count": 180,
   "id": "92420d1f-40fb-4a5b-b90c-9d9cf82eaef6",
   "metadata": {},
   "outputs": [
    {
     "name": "stdout",
     "output_type": "stream",
     "text": [
      "0.30448368014777794\n"
     ]
    }
   ],
   "source": [
    "#### Calculate p value\n",
    "  \n",
    "# Determining the p-value\n",
    "p_value = scipy.stats.t.sf(abs(T_score), df=9) # T-score and degrees of freedom\n",
    "print(p_value) "
   ]
  },
  {
   "cell_type": "markdown",
   "id": "a198b4fb-af0d-4315-a75b-ca572577f8ad",
   "metadata": {},
   "source": [
    "### *Test for the mean - Dependent Samples*\n",
    "\n",
    "refers to same subjects"
   ]
  },
  {
   "cell_type": "code",
   "execution_count": 181,
   "id": "3a33c76f-3a9c-45ed-8e16-64430c7d4cea",
   "metadata": {},
   "outputs": [],
   "source": [
    "# magnesium levels example - drug intake"
   ]
  },
  {
   "cell_type": "code",
   "execution_count": 182,
   "id": "9aa8c23e-0534-44c3-9810-bda0472a5639",
   "metadata": {},
   "outputs": [],
   "source": [
    "before = [\n",
    "    228.58,\n",
    "    244.01,\n",
    "    262.46,\n",
    "    224.32,\n",
    "    202.14,\n",
    "    246.98,\n",
    "    195.86,\n",
    "    231.88,\n",
    "    243.32,\n",
    "    266.74\n",
    "]\n",
    "\n",
    "\n",
    "after = [\n",
    "    228.55,\n",
    "    238.95,\n",
    "    255.62,\n",
    "    224.22,\n",
    "    199.71,\n",
    "    248.47,\n",
    "    192.60,\n",
    "    228.85,\n",
    "    233.85,\n",
    "    270.40\n",
    "]"
   ]
  },
  {
   "cell_type": "code",
   "execution_count": 183,
   "id": "0875b005-d3a2-479d-8023-7856753ec1a5",
   "metadata": {},
   "outputs": [
    {
     "data": {
      "text/plain": [
       "[0.03, 5.06, 6.84, 0.1, 2.43, -1.49, 3.26, 3.03, 9.47, -3.66]"
      ]
     },
     "execution_count": 183,
     "metadata": {},
     "output_type": "execute_result"
    }
   ],
   "source": [
    "difference = [round(b - a, 2) for b, a in zip(before, after)]\n",
    "difference"
   ]
  },
  {
   "cell_type": "code",
   "execution_count": 184,
   "id": "867e1c55-2e66-4495-8f44-cf223671bcbe",
   "metadata": {},
   "outputs": [],
   "source": [
    "sample_mean = np.mean(difference)\n",
    "sample_std = np.std(difference)\n",
    "sample_s_error = sem(difference)"
   ]
  },
  {
   "cell_type": "code",
   "execution_count": 185,
   "id": "9c29176f-bc11-4682-ade3-5d7759d57f25",
   "metadata": {},
   "outputs": [
    {
     "data": {
      "text/plain": [
       "2.5069999999999997"
      ]
     },
     "execution_count": 185,
     "metadata": {},
     "output_type": "execute_result"
    }
   ],
   "source": [
    "T_score = (sample_mean) - 0 / sample_s_error\n",
    "T_score"
   ]
  },
  {
   "cell_type": "code",
   "execution_count": 186,
   "id": "98fc99c8-de99-4200-9a3f-c9c459cab408",
   "metadata": {},
   "outputs": [],
   "source": [
    "#### Calculate p value\n",
    "  \n",
    "# Determining the p-value\n",
    "p = scipy.stats.t.sf(T_score, df=9)# T-score and degrees of freedom\n",
    "alpha = 0.05 #level of significane chosen by the researcher"
   ]
  },
  {
   "cell_type": "code",
   "execution_count": 187,
   "id": "dbb59024-d79e-4a6e-b553-5a18a50e8a06",
   "metadata": {},
   "outputs": [
    {
     "name": "stdout",
     "output_type": "stream",
     "text": [
      "Reject null hypothesis\n",
      "0.02 smaller than 0.05\n"
     ]
    }
   ],
   "source": [
    "if p > alpha:\n",
    "    print(\"Accept null hypothesis\")\n",
    "    print(f'{p} bigger than{alpha}')\n",
    "    \n",
    "else:\n",
    "    print(\"Reject null hypothesis\")\n",
    "    print(f'{round(p, 2)} smaller than {alpha}')"
   ]
  },
  {
   "cell_type": "markdown",
   "id": "002102d7-8e61-43d8-9d0a-0beee80022dd",
   "metadata": {},
   "source": [
    "### *Test for the mean - Independent Samples Known Variance*\n",
    "\n",
    "Null H statement : mean of engineering department - mean of management department = - 4 %\n",
    "\n",
    "Alternative H statement : mean of engineering department - mean of management department != - 4 %\n",
    "\n",
    "Two-Sided Test"
   ]
  },
  {
   "cell_type": "code",
   "execution_count": 204,
   "id": "9dd7128d-324d-41dd-a76d-4d0d35e9c9ba",
   "metadata": {},
   "outputs": [],
   "source": [
    "e_size , m_size = 100 , 70"
   ]
  },
  {
   "cell_type": "code",
   "execution_count": 205,
   "id": "288d486e-23a7-4105-89c8-02e78b4631e9",
   "metadata": {},
   "outputs": [],
   "source": [
    "e_mean , m_mean = 58 , 65\n",
    "sample_mean = e_mean - m_mean"
   ]
  },
  {
   "cell_type": "code",
   "execution_count": 206,
   "id": "e228a3fc-0c1c-475d-a4f0-16a6d65eda9e",
   "metadata": {},
   "outputs": [],
   "source": [
    "e_pop_std , m_pop_std = 10 , 6"
   ]
  },
  {
   "cell_type": "code",
   "execution_count": 207,
   "id": "2c2d75f8-c87f-4cb5-b608-02f402267d17",
   "metadata": {},
   "outputs": [
    {
     "name": "stdout",
     "output_type": "stream",
     "text": [
      "1.5583874449479593\n"
     ]
    }
   ],
   "source": [
    "d = np.sqrt(e_pop_std**2 / e_size + e_pop_std**2 / m_size)\n",
    "print(d)\n",
    "hypo_diff = -4"
   ]
  },
  {
   "cell_type": "code",
   "execution_count": 208,
   "id": "ce4ec9c0-41cc-48fb-931c-a32b62d8ebd6",
   "metadata": {},
   "outputs": [],
   "source": [
    "Z_score = (sample_mean - (hypo_diff)) / d"
   ]
  },
  {
   "cell_type": "code",
   "execution_count": 209,
   "id": "b49126fa-c3b2-4807-a143-9ee086cce35b",
   "metadata": {},
   "outputs": [
    {
     "data": {
      "text/plain": [
       "-1.9250668437592435"
      ]
     },
     "execution_count": 209,
     "metadata": {},
     "output_type": "execute_result"
    }
   ],
   "source": [
    "Z_score"
   ]
  },
  {
   "cell_type": "code",
   "execution_count": 212,
   "id": "991f08e8-e2b3-49f9-9480-21bd1065e14b",
   "metadata": {},
   "outputs": [],
   "source": [
    "p = 0.015"
   ]
  },
  {
   "cell_type": "code",
   "execution_count": 213,
   "id": "4bd6a9e2-8d40-4aad-a7ff-bb9b2d56daba",
   "metadata": {},
   "outputs": [],
   "source": [
    "alpha = 0.05"
   ]
  },
  {
   "cell_type": "code",
   "execution_count": 214,
   "id": "4840d8c8-27f4-446b-868d-51188a101c84",
   "metadata": {},
   "outputs": [
    {
     "name": "stdout",
     "output_type": "stream",
     "text": [
      "Reject null hypothesis\n",
      "0.01 smaller than 0.05\n"
     ]
    }
   ],
   "source": [
    "if p > alpha:\n",
    "    print(\"Accept null hypothesis\")\n",
    "    print(f'{p} bigger than{alpha}')\n",
    "    \n",
    "else:\n",
    "    print(\"Reject null hypothesis\")\n",
    "    print(f'{round(p, 2)} smaller than {alpha}')"
   ]
  },
  {
   "cell_type": "markdown",
   "id": "d697b399-06e0-42cc-b9f3-a69f0a3041d6",
   "metadata": {},
   "source": [
    "### *Test for the mean - Independent Samples Unknown Variance assumed to be equal*"
   ]
  },
  {
   "cell_type": "markdown",
   "id": "9489446c-1482-40fa-8366-3cd5f02cd62a",
   "metadata": {},
   "source": [
    "H null statement : mean NY - mean LA = 0\n",
    "\n",
    "H alternative statement : mean NY - mean LA != 0"
   ]
  },
  {
   "cell_type": "code",
   "execution_count": 215,
   "id": "b499e8fb-3a89-4c22-b4ee-86c5c0236ff4",
   "metadata": {},
   "outputs": [],
   "source": [
    "ny_apples = [3.8, 3.76, 3.87, 3.99, 4.02, 4.25, 4.13, 3.98, 3.99, 3.62]\n",
    "la_apples = [3.02, 3.22, 3.24, 3.02, 3.06, 3.15, 3.81, 3.44]\n"
   ]
  },
  {
   "cell_type": "code",
   "execution_count": 256,
   "id": "e46c6321-7fa9-41c8-ba56-a310115f8bde",
   "metadata": {},
   "outputs": [],
   "source": [
    "ny_mean = np.mean(ny_apples)\n",
    "la_mean = np.mean(la_apples)\n",
    "\n",
    "ny_std = np.std(ny_apples)\n",
    "la_std = np.std(la_apples)\n",
    "\n",
    "ny_size = len(ny_apples)\n",
    "la_size = len(la_apples)\n",
    "\n",
    "ny_var= np.var(ny_apples, ddof=1)\n",
    "la_var = np.var(la_apples, ddof=1)"
   ]
  },
  {
   "cell_type": "markdown",
   "id": "d3b395ce-f8ba-40df-9da2-4fc2e103744c",
   "metadata": {},
   "source": [
    "Pooled variance \n",
    "\n",
    "We use the word “pooled” to indicate that we’re “pooling” two or more group variances to come up with a single number for the common variance between the groups.\n",
    "\n",
    "https://www.statology.org/pooled-variance/"
   ]
  },
  {
   "cell_type": "code",
   "execution_count": 262,
   "id": "dd9c3707-b0ef-4f64-9866-e03378512b0a",
   "metadata": {},
   "outputs": [],
   "source": [
    "pooled_variance = ((ny_size - 1) * ny_var + (la_size - 1) * la_var) / (ny_size + la_size - 2)"
   ]
  },
  {
   "cell_type": "code",
   "execution_count": 268,
   "id": "cf159c76-684e-4351-9dcf-3708c100dcf4",
   "metadata": {},
   "outputs": [
    {
     "data": {
      "text/plain": [
       "0.05"
      ]
     },
     "execution_count": 268,
     "metadata": {},
     "output_type": "execute_result"
    }
   ],
   "source": [
    "pooled_variance = round(pooled_variance , 2)\n",
    "pooled_variance"
   ]
  },
  {
   "cell_type": "code",
   "execution_count": 271,
   "id": "6f09e743-6f96-49c6-afb1-e94671f4bf66",
   "metadata": {},
   "outputs": [
    {
     "data": {
      "text/plain": [
       "0.10606601717798213"
      ]
     },
     "execution_count": 271,
     "metadata": {},
     "output_type": "execute_result"
    }
   ],
   "source": [
    "pooled_std = np.sqrt((pooled_variance/ny_size) + (pooled_variance/la_size))\n",
    "pooled_std"
   ]
  },
  {
   "cell_type": "code",
   "execution_count": 272,
   "id": "18fbb7ea-bfe9-4813-b638-ed2f40b91749",
   "metadata": {},
   "outputs": [
    {
     "data": {
      "text/plain": [
       "16"
      ]
     },
     "execution_count": 272,
     "metadata": {},
     "output_type": "execute_result"
    }
   ],
   "source": [
    "degrees = (ny_size + la_size) - 2\n",
    "degrees"
   ]
  },
  {
   "cell_type": "code",
   "execution_count": 281,
   "id": "05c7ae9e-3393-4ec6-a818-ccb2b6d63b51",
   "metadata": {},
   "outputs": [
    {
     "data": {
      "text/plain": [
       "0.6959999999999997"
      ]
     },
     "execution_count": 281,
     "metadata": {},
     "output_type": "execute_result"
    }
   ],
   "source": [
    "diff_mean = ny_mean - la_mean\n",
    "diff_mean"
   ]
  },
  {
   "cell_type": "code",
   "execution_count": 283,
   "id": "35fc8729-2669-4f3d-a4e0-c3eee0a948dd",
   "metadata": {},
   "outputs": [
    {
     "data": {
      "text/plain": [
       "6.561950929411158"
      ]
     },
     "execution_count": 283,
     "metadata": {},
     "output_type": "execute_result"
    }
   ],
   "source": [
    "T_score = (diff_mean - 0 ) / pooled_std\n",
    "T_score"
   ]
  },
  {
   "cell_type": "code",
   "execution_count": 286,
   "id": "1e9c8653-7e21-44a9-9493-084f503698b6",
   "metadata": {},
   "outputs": [],
   "source": [
    "p = 0.000001"
   ]
  },
  {
   "cell_type": "code",
   "execution_count": 287,
   "id": "db681141-5768-4f5c-864e-ebf6cca6c872",
   "metadata": {},
   "outputs": [
    {
     "name": "stdout",
     "output_type": "stream",
     "text": [
      "Reject null hypothesis\n",
      "0.0 smaller than 6.561950929411158\n"
     ]
    }
   ],
   "source": [
    "if p > T_score:\n",
    "    print(\"Accept null hypothesis\")\n",
    "    print(f'{p} bigger than{T_score}')\n",
    "    \n",
    "else:\n",
    "    print(\"Reject null hypothesis\")\n",
    "    print(f'{round(p, 2)} smaller than {T_score}')"
   ]
  },
  {
   "cell_type": "code",
   "execution_count": 288,
   "id": "5df2e407-40bc-4f56-a99b-3e566a0dfd2d",
   "metadata": {},
   "outputs": [],
   "source": [
    "# As a rule of thumb, what t-score do researchers believe to be sufficiently significant for a T-test?\n",
    "# answer = 2"
   ]
  },
  {
   "cell_type": "code",
   "execution_count": null,
   "id": "ceba6028-ffd0-4930-8d0d-281359d9b47a",
   "metadata": {},
   "outputs": [],
   "source": [
    "sales = [69.600, 96.000, 70.400, 92.000, 72.900, 71.200, 91.000, 75.200, 76.800, 89.000, 64.000, 69.600, 82.000, 73.600, 95.000, 83.700, 83.700, 79.200, 80.000, 93.000, 97.000, 67.200, 96.000, 64.800, 84.000, 66.400, 88.200, 68.800, 88.000, 86.000, 65.600, 92.000, 79.200, 99.000, 72.800, 74.700, 67.200, 95.000, 73.600, 74.400, 76.800, 66.400, 81.000, 72.900, 90.000, 82.000, 86.000, 95.000, 80.000, 72.900, 78.300, 71.200, 88.200, 82.800, 92.000, 74.400, 83.000, 64.000, 66.400, 70.400, 95.000, 72.800, 69.600, 84.600, 74.700, 86.000, 96.000, 76.500, 69.600, 89.000, 68.000, 79.200, 65.600, 82.800, 67.200]\n"
   ]
  },
  {
   "cell_type": "code",
   "execution_count": 290,
   "id": "ddc05d54-c844-4918-acdf-d5ec67b0fd81",
   "metadata": {},
   "outputs": [
    {
     "name": "stdout",
     "output_type": "stream",
     "text": [
      "zsh:1: no matches found: nbconvert[webpdf]\n",
      "\u001b[31mERROR: You must give at least one requirement to install (see \"pip help install\")\u001b[0m\u001b[31m\n",
      "\u001b[0mNote: you may need to restart the kernel to use updated packages.\n"
     ]
    }
   ],
   "source": []
  },
  {
   "cell_type": "code",
   "execution_count": null,
   "id": "0be654b4-ffd1-413e-9c2d-54be8c6a7d50",
   "metadata": {},
   "outputs": [],
   "source": []
  },
  {
   "cell_type": "code",
   "execution_count": null,
   "id": "72422e25-f379-45fb-898b-0d916e492b8f",
   "metadata": {},
   "outputs": [],
   "source": []
  },
  {
   "cell_type": "code",
   "execution_count": null,
   "id": "6aed8226-0e1c-4c66-b029-f14bbbade643",
   "metadata": {},
   "outputs": [],
   "source": []
  },
  {
   "cell_type": "code",
   "execution_count": null,
   "id": "b71069fe-b161-4378-9280-667e06bf238a",
   "metadata": {},
   "outputs": [],
   "source": []
  },
  {
   "cell_type": "code",
   "execution_count": null,
   "id": "e49ab305-abe4-466c-acfa-beeb8f736774",
   "metadata": {},
   "outputs": [],
   "source": []
  },
  {
   "cell_type": "code",
   "execution_count": null,
   "id": "eeea4a6a-cb22-404f-8cd8-0da72268d8c4",
   "metadata": {},
   "outputs": [],
   "source": []
  },
  {
   "cell_type": "code",
   "execution_count": null,
   "id": "94e1e9d4-bf28-45c1-804c-7d14dd2656c7",
   "metadata": {},
   "outputs": [],
   "source": []
  }
 ],
 "metadata": {
  "kernelspec": {
   "display_name": "Python 3 (ipykernel)",
   "language": "python",
   "name": "python3"
  },
  "language_info": {
   "codemirror_mode": {
    "name": "ipython",
    "version": 3
   },
   "file_extension": ".py",
   "mimetype": "text/x-python",
   "name": "python",
   "nbconvert_exporter": "python",
   "pygments_lexer": "ipython3",
   "version": "3.9.13"
  }
 },
 "nbformat": 4,
 "nbformat_minor": 5
}
